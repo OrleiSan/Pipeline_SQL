{
  "nbformat": 4,
  "nbformat_minor": 0,
  "metadata": {
    "colab": {
      "provenance": [],
      "authorship_tag": "ABX9TyPtpZIv8U/+TyjBjyXMUhHx",
      "include_colab_link": true
    },
    "kernelspec": {
      "name": "python3",
      "display_name": "Python 3"
    },
    "language_info": {
      "name": "python"
    }
  },
  "cells": [
    {
      "cell_type": "markdown",
      "metadata": {
        "id": "view-in-github",
        "colab_type": "text"
      },
      "source": [
        "<a href=\"https://colab.research.google.com/github/OrleiSan/Pipeline_SQL/blob/main/Pipeline_SQL.ipynb\" target=\"_parent\"><img src=\"https://colab.research.google.com/assets/colab-badge.svg\" alt=\"Open In Colab\"/></a>"
      ]
    },
    {
      "cell_type": "markdown",
      "source": [
        "# Tutorial de apoio"
      ],
      "metadata": {
        "id": "jlCWxscOERPl"
      }
    },
    {
      "cell_type": "code",
      "source": [
        "# Tutorial de apoio para questão 7\n",
        "from IPython.display import HTML\n",
        "\n",
        "video_id = \"vUBkZLpLjq4\"  # ID do vídeo\n",
        "video_url = f\"https://www.youtube.com/embed/{video_id}\"\n",
        "\n",
        "HTML(f\"\"\"\n",
        "<iframe width=\"560\" height=\"315\" src=\"{video_url}\" frameborder=\"0\" allow=\"accelerometer; autoplay; clipboard-write; encrypted-media; gyroscope; picture-in-picture\" allowfullscreen></iframe>\n",
        "\"\"\")"
      ],
      "metadata": {
        "colab": {
          "base_uri": "https://localhost:8080/",
          "height": 336
        },
        "id": "qlHv4xaDEf_y",
        "outputId": "3c44f5c2-872e-44a5-daed-2e074d31665b"
      },
      "execution_count": 3,
      "outputs": [
        {
          "output_type": "execute_result",
          "data": {
            "text/plain": [
              "<IPython.core.display.HTML object>"
            ],
            "text/html": [
              "\n",
              "<iframe width=\"560\" height=\"315\" src=\"https://www.youtube.com/embed/vUBkZLpLjq4\" frameborder=\"0\" allow=\"accelerometer; autoplay; clipboard-write; encrypted-media; gyroscope; picture-in-picture\" allowfullscreen></iframe>\n"
            ]
          },
          "metadata": {},
          "execution_count": 3
        }
      ]
    },
    {
      "cell_type": "markdown",
      "source": [
        "# Conexão"
      ],
      "metadata": {
        "id": "APah1p2DB2De"
      }
    },
    {
      "cell_type": "code",
      "execution_count": 1,
      "metadata": {
        "colab": {
          "base_uri": "https://localhost:8080/"
        },
        "id": "c78TUSchBZ-q",
        "outputId": "0ccb6c1b-0876-4fe0-9321-c72e0342d821"
      },
      "outputs": [
        {
          "output_type": "stream",
          "name": "stdout",
          "text": [
            "Collecting mysql-connector-python\n",
            "  Downloading mysql_connector_python-9.1.0-cp310-cp310-manylinux_2_28_x86_64.whl.metadata (6.0 kB)\n",
            "Downloading mysql_connector_python-9.1.0-cp310-cp310-manylinux_2_28_x86_64.whl (34.4 MB)\n",
            "\u001b[2K   \u001b[90m━━━━━━━━━━━━━━━━━━━━━━━━━━━━━━━━━━━━━━━━\u001b[0m \u001b[32m34.4/34.4 MB\u001b[0m \u001b[31m10.4 MB/s\u001b[0m eta \u001b[36m0:00:00\u001b[0m\n",
            "\u001b[?25hInstalling collected packages: mysql-connector-python\n",
            "Successfully installed mysql-connector-python-9.1.0\n"
          ]
        }
      ],
      "source": [
        "!pip install mysql-connector-python"
      ]
    },
    {
      "cell_type": "code",
      "source": [
        "!curl ipecho.net/plain"
      ],
      "metadata": {
        "colab": {
          "base_uri": "https://localhost:8080/"
        },
        "id": "x-E8uSSdCwzP",
        "outputId": "a36e9c3b-7b24-46f3-eb43-fa0007f51b6b"
      },
      "execution_count": 2,
      "outputs": [
        {
          "output_type": "stream",
          "name": "stdout",
          "text": [
            "35.194.82.160"
          ]
        }
      ]
    },
    {
      "cell_type": "markdown",
      "source": [
        "#Buscando o arquivo via API para gerar o banco de dados a partir um arquivo CSV."
      ],
      "metadata": {
        "id": "CaWYr1QHGcov"
      }
    },
    {
      "cell_type": "code",
      "source": [
        "import requests\n",
        "import pandas as pd\n",
        "import json"
      ],
      "metadata": {
        "id": "exuPD9AgC3U8"
      },
      "execution_count": 5,
      "outputs": []
    },
    {
      "cell_type": "code",
      "source": [
        "# Termo de busca\n",
        "termo_de_busca = \"webcam\"\n",
        "\n",
        "# URL da API do Mercado Livre\n",
        "url = f\"https://api.mercadolibre.com/sites/MLB/search?q={termo_de_busca}\"\n",
        "\n",
        "# Fazer a requisição GET\n",
        "response = requests.get(url)\n",
        "\n",
        "# Verificar se a requisição foi bem-sucedida\n",
        "if response.status_code == 200:\n",
        "    # Carregar os dados em formato JSON\n",
        "    dados = response.json()\n",
        "\n",
        "    # Extrair os dados relevantes\n",
        "    produtos = []\n",
        "    for item in dados.get('results', []):\n",
        "        produto = {\n",
        "            \"Título\": item.get('title'),\n",
        "            \"Preço (R$)\": item.get('price'),\n",
        "            \"Link\": item.get('permalink'),\n",
        "            \"Condição\": item.get('condition'),\n",
        "            \"Categoria\": item.get('category_id')\n",
        "        }\n",
        "        produtos.append(produto)\n",
        "\n",
        "    # Criar o DataFrame\n",
        "    df = pd.DataFrame(produtos)\n",
        "\n",
        "    # Exibir o DataFrame\n",
        "    display(df)\n",
        "else:\n",
        "    print(f\"Erro na requisição: {response.status_code}\")"
      ],
      "metadata": {
        "id": "6hPUo6K9HHeN"
      },
      "execution_count": null,
      "outputs": []
    },
    {
      "cell_type": "markdown",
      "source": [
        "# Tratando com o pandas"
      ],
      "metadata": {
        "id": "e9w4VdUkHbHs"
      }
    },
    {
      "cell_type": "code",
      "source": [
        "df.head(1)"
      ],
      "metadata": {
        "colab": {
          "base_uri": "https://localhost:8080/",
          "height": 81
        },
        "id": "YEw_iJN9HeMK",
        "outputId": "226b0227-197b-4429-aedf-45f8f551eeef"
      },
      "execution_count": 7,
      "outputs": [
        {
          "output_type": "execute_result",
          "data": {
            "text/plain": [
              "                                              Título  Preço (R$)  \\\n",
              "0  Webcam Home Ofice ! Microfone ! Teans, Zoom, M...       54.46   \n",
              "\n",
              "                                                Link Condição Categoria  \n",
              "0  https://produto.mercadolivre.com.br/MLB-186361...      new  MLB73364  "
            ],
            "text/html": [
              "\n",
              "  <div id=\"df-8601372c-851e-4e15-bde6-fab7946ff750\" class=\"colab-df-container\">\n",
              "    <div>\n",
              "<style scoped>\n",
              "    .dataframe tbody tr th:only-of-type {\n",
              "        vertical-align: middle;\n",
              "    }\n",
              "\n",
              "    .dataframe tbody tr th {\n",
              "        vertical-align: top;\n",
              "    }\n",
              "\n",
              "    .dataframe thead th {\n",
              "        text-align: right;\n",
              "    }\n",
              "</style>\n",
              "<table border=\"1\" class=\"dataframe\">\n",
              "  <thead>\n",
              "    <tr style=\"text-align: right;\">\n",
              "      <th></th>\n",
              "      <th>Título</th>\n",
              "      <th>Preço (R$)</th>\n",
              "      <th>Link</th>\n",
              "      <th>Condição</th>\n",
              "      <th>Categoria</th>\n",
              "    </tr>\n",
              "  </thead>\n",
              "  <tbody>\n",
              "    <tr>\n",
              "      <th>0</th>\n",
              "      <td>Webcam Home Ofice ! Microfone ! Teans, Zoom, M...</td>\n",
              "      <td>54.46</td>\n",
              "      <td>https://produto.mercadolivre.com.br/MLB-186361...</td>\n",
              "      <td>new</td>\n",
              "      <td>MLB73364</td>\n",
              "    </tr>\n",
              "  </tbody>\n",
              "</table>\n",
              "</div>\n",
              "    <div class=\"colab-df-buttons\">\n",
              "\n",
              "  <div class=\"colab-df-container\">\n",
              "    <button class=\"colab-df-convert\" onclick=\"convertToInteractive('df-8601372c-851e-4e15-bde6-fab7946ff750')\"\n",
              "            title=\"Convert this dataframe to an interactive table.\"\n",
              "            style=\"display:none;\">\n",
              "\n",
              "  <svg xmlns=\"http://www.w3.org/2000/svg\" height=\"24px\" viewBox=\"0 -960 960 960\">\n",
              "    <path d=\"M120-120v-720h720v720H120Zm60-500h600v-160H180v160Zm220 220h160v-160H400v160Zm0 220h160v-160H400v160ZM180-400h160v-160H180v160Zm440 0h160v-160H620v160ZM180-180h160v-160H180v160Zm440 0h160v-160H620v160Z\"/>\n",
              "  </svg>\n",
              "    </button>\n",
              "\n",
              "  <style>\n",
              "    .colab-df-container {\n",
              "      display:flex;\n",
              "      gap: 12px;\n",
              "    }\n",
              "\n",
              "    .colab-df-convert {\n",
              "      background-color: #E8F0FE;\n",
              "      border: none;\n",
              "      border-radius: 50%;\n",
              "      cursor: pointer;\n",
              "      display: none;\n",
              "      fill: #1967D2;\n",
              "      height: 32px;\n",
              "      padding: 0 0 0 0;\n",
              "      width: 32px;\n",
              "    }\n",
              "\n",
              "    .colab-df-convert:hover {\n",
              "      background-color: #E2EBFA;\n",
              "      box-shadow: 0px 1px 2px rgba(60, 64, 67, 0.3), 0px 1px 3px 1px rgba(60, 64, 67, 0.15);\n",
              "      fill: #174EA6;\n",
              "    }\n",
              "\n",
              "    .colab-df-buttons div {\n",
              "      margin-bottom: 4px;\n",
              "    }\n",
              "\n",
              "    [theme=dark] .colab-df-convert {\n",
              "      background-color: #3B4455;\n",
              "      fill: #D2E3FC;\n",
              "    }\n",
              "\n",
              "    [theme=dark] .colab-df-convert:hover {\n",
              "      background-color: #434B5C;\n",
              "      box-shadow: 0px 1px 3px 1px rgba(0, 0, 0, 0.15);\n",
              "      filter: drop-shadow(0px 1px 2px rgba(0, 0, 0, 0.3));\n",
              "      fill: #FFFFFF;\n",
              "    }\n",
              "  </style>\n",
              "\n",
              "    <script>\n",
              "      const buttonEl =\n",
              "        document.querySelector('#df-8601372c-851e-4e15-bde6-fab7946ff750 button.colab-df-convert');\n",
              "      buttonEl.style.display =\n",
              "        google.colab.kernel.accessAllowed ? 'block' : 'none';\n",
              "\n",
              "      async function convertToInteractive(key) {\n",
              "        const element = document.querySelector('#df-8601372c-851e-4e15-bde6-fab7946ff750');\n",
              "        const dataTable =\n",
              "          await google.colab.kernel.invokeFunction('convertToInteractive',\n",
              "                                                    [key], {});\n",
              "        if (!dataTable) return;\n",
              "\n",
              "        const docLinkHtml = 'Like what you see? Visit the ' +\n",
              "          '<a target=\"_blank\" href=https://colab.research.google.com/notebooks/data_table.ipynb>data table notebook</a>'\n",
              "          + ' to learn more about interactive tables.';\n",
              "        element.innerHTML = '';\n",
              "        dataTable['output_type'] = 'display_data';\n",
              "        await google.colab.output.renderOutput(dataTable, element);\n",
              "        const docLink = document.createElement('div');\n",
              "        docLink.innerHTML = docLinkHtml;\n",
              "        element.appendChild(docLink);\n",
              "      }\n",
              "    </script>\n",
              "  </div>\n",
              "\n",
              "\n",
              "    </div>\n",
              "  </div>\n"
            ],
            "application/vnd.google.colaboratory.intrinsic+json": {
              "type": "dataframe",
              "variable_name": "df",
              "summary": "{\n  \"name\": \"df\",\n  \"rows\": 49,\n  \"fields\": [\n    {\n      \"column\": \"T\\u00edtulo\",\n      \"properties\": {\n        \"dtype\": \"string\",\n        \"num_unique_values\": 48,\n        \"samples\": [\n          \"Mini-c\\u00e2mera Para Pc Webcam Com Microfone Filmar Fotos Videos Cor Preto\",\n          \"C\\u00e2mera Web C3tech Wb-70bk Hd 30fps Cor Preto\",\n          \"Webcam Microsoft 5mp Interpolado - Lifecam Cinema H5d-00013 Cor Preto\"\n        ],\n        \"semantic_type\": \"\",\n        \"description\": \"\"\n      }\n    },\n    {\n      \"column\": \"Pre\\u00e7o (R$)\",\n      \"properties\": {\n        \"dtype\": \"number\",\n        \"std\": 430.31652063683674,\n        \"min\": 17.63,\n        \"max\": 2559.0,\n        \"num_unique_values\": 47,\n        \"samples\": [\n          529.0,\n          329.89,\n          30.99\n        ],\n        \"semantic_type\": \"\",\n        \"description\": \"\"\n      }\n    },\n    {\n      \"column\": \"Link\",\n      \"properties\": {\n        \"dtype\": \"string\",\n        \"num_unique_values\": 49,\n        \"samples\": [\n          \"https://www.mercadolivre.com.br/webcam-full-hd-1080p-usb-alta-resoluco-de-computador-cor-preto/p/MLB24837379#wid=MLB5173809422&sid=unknown\",\n          \"https://www.mercadolivre.com.br/cmera-webcam-logitech-c920e-full-hd-30fps-cor-preto/p/MLB18926944#wid=MLB5219227002&sid=unknown\",\n          \"https://www.mercadolivre.com.br/webcam-full-hd-logitech-brio-300-grafite-960-001413-v/p/MLB26033777#wid=MLB3423185445&sid=unknown\"\n        ],\n        \"semantic_type\": \"\",\n        \"description\": \"\"\n      }\n    },\n    {\n      \"column\": \"Condi\\u00e7\\u00e3o\",\n      \"properties\": {\n        \"dtype\": \"category\",\n        \"num_unique_values\": 1,\n        \"samples\": [\n          \"new\"\n        ],\n        \"semantic_type\": \"\",\n        \"description\": \"\"\n      }\n    },\n    {\n      \"column\": \"Categoria\",\n      \"properties\": {\n        \"dtype\": \"category\",\n        \"num_unique_values\": 1,\n        \"samples\": [\n          \"MLB73364\"\n        ],\n        \"semantic_type\": \"\",\n        \"description\": \"\"\n      }\n    }\n  ]\n}"
            }
          },
          "metadata": {},
          "execution_count": 7
        }
      ]
    },
    {
      "cell_type": "code",
      "source": [
        "df['Condição'] = df['Condição'].replace('new', 'novo')"
      ],
      "metadata": {
        "id": "tvh5X_O9H01v"
      },
      "execution_count": 8,
      "outputs": []
    },
    {
      "cell_type": "code",
      "source": [
        "df.head(1)"
      ],
      "metadata": {
        "colab": {
          "base_uri": "https://localhost:8080/",
          "height": 81
        },
        "id": "Cv02rWPOILtJ",
        "outputId": "cce29222-aff8-4df1-d3d0-6ae1c808fd6c"
      },
      "execution_count": 9,
      "outputs": [
        {
          "output_type": "execute_result",
          "data": {
            "text/plain": [
              "                                              Título  Preço (R$)  \\\n",
              "0  Webcam Home Ofice ! Microfone ! Teans, Zoom, M...       54.46   \n",
              "\n",
              "                                                Link Condição Categoria  \n",
              "0  https://produto.mercadolivre.com.br/MLB-186361...     novo  MLB73364  "
            ],
            "text/html": [
              "\n",
              "  <div id=\"df-6f373f01-df09-4f63-9037-adc200d6f64a\" class=\"colab-df-container\">\n",
              "    <div>\n",
              "<style scoped>\n",
              "    .dataframe tbody tr th:only-of-type {\n",
              "        vertical-align: middle;\n",
              "    }\n",
              "\n",
              "    .dataframe tbody tr th {\n",
              "        vertical-align: top;\n",
              "    }\n",
              "\n",
              "    .dataframe thead th {\n",
              "        text-align: right;\n",
              "    }\n",
              "</style>\n",
              "<table border=\"1\" class=\"dataframe\">\n",
              "  <thead>\n",
              "    <tr style=\"text-align: right;\">\n",
              "      <th></th>\n",
              "      <th>Título</th>\n",
              "      <th>Preço (R$)</th>\n",
              "      <th>Link</th>\n",
              "      <th>Condição</th>\n",
              "      <th>Categoria</th>\n",
              "    </tr>\n",
              "  </thead>\n",
              "  <tbody>\n",
              "    <tr>\n",
              "      <th>0</th>\n",
              "      <td>Webcam Home Ofice ! Microfone ! Teans, Zoom, M...</td>\n",
              "      <td>54.46</td>\n",
              "      <td>https://produto.mercadolivre.com.br/MLB-186361...</td>\n",
              "      <td>novo</td>\n",
              "      <td>MLB73364</td>\n",
              "    </tr>\n",
              "  </tbody>\n",
              "</table>\n",
              "</div>\n",
              "    <div class=\"colab-df-buttons\">\n",
              "\n",
              "  <div class=\"colab-df-container\">\n",
              "    <button class=\"colab-df-convert\" onclick=\"convertToInteractive('df-6f373f01-df09-4f63-9037-adc200d6f64a')\"\n",
              "            title=\"Convert this dataframe to an interactive table.\"\n",
              "            style=\"display:none;\">\n",
              "\n",
              "  <svg xmlns=\"http://www.w3.org/2000/svg\" height=\"24px\" viewBox=\"0 -960 960 960\">\n",
              "    <path d=\"M120-120v-720h720v720H120Zm60-500h600v-160H180v160Zm220 220h160v-160H400v160Zm0 220h160v-160H400v160ZM180-400h160v-160H180v160Zm440 0h160v-160H620v160ZM180-180h160v-160H180v160Zm440 0h160v-160H620v160Z\"/>\n",
              "  </svg>\n",
              "    </button>\n",
              "\n",
              "  <style>\n",
              "    .colab-df-container {\n",
              "      display:flex;\n",
              "      gap: 12px;\n",
              "    }\n",
              "\n",
              "    .colab-df-convert {\n",
              "      background-color: #E8F0FE;\n",
              "      border: none;\n",
              "      border-radius: 50%;\n",
              "      cursor: pointer;\n",
              "      display: none;\n",
              "      fill: #1967D2;\n",
              "      height: 32px;\n",
              "      padding: 0 0 0 0;\n",
              "      width: 32px;\n",
              "    }\n",
              "\n",
              "    .colab-df-convert:hover {\n",
              "      background-color: #E2EBFA;\n",
              "      box-shadow: 0px 1px 2px rgba(60, 64, 67, 0.3), 0px 1px 3px 1px rgba(60, 64, 67, 0.15);\n",
              "      fill: #174EA6;\n",
              "    }\n",
              "\n",
              "    .colab-df-buttons div {\n",
              "      margin-bottom: 4px;\n",
              "    }\n",
              "\n",
              "    [theme=dark] .colab-df-convert {\n",
              "      background-color: #3B4455;\n",
              "      fill: #D2E3FC;\n",
              "    }\n",
              "\n",
              "    [theme=dark] .colab-df-convert:hover {\n",
              "      background-color: #434B5C;\n",
              "      box-shadow: 0px 1px 3px 1px rgba(0, 0, 0, 0.15);\n",
              "      filter: drop-shadow(0px 1px 2px rgba(0, 0, 0, 0.3));\n",
              "      fill: #FFFFFF;\n",
              "    }\n",
              "  </style>\n",
              "\n",
              "    <script>\n",
              "      const buttonEl =\n",
              "        document.querySelector('#df-6f373f01-df09-4f63-9037-adc200d6f64a button.colab-df-convert');\n",
              "      buttonEl.style.display =\n",
              "        google.colab.kernel.accessAllowed ? 'block' : 'none';\n",
              "\n",
              "      async function convertToInteractive(key) {\n",
              "        const element = document.querySelector('#df-6f373f01-df09-4f63-9037-adc200d6f64a');\n",
              "        const dataTable =\n",
              "          await google.colab.kernel.invokeFunction('convertToInteractive',\n",
              "                                                    [key], {});\n",
              "        if (!dataTable) return;\n",
              "\n",
              "        const docLinkHtml = 'Like what you see? Visit the ' +\n",
              "          '<a target=\"_blank\" href=https://colab.research.google.com/notebooks/data_table.ipynb>data table notebook</a>'\n",
              "          + ' to learn more about interactive tables.';\n",
              "        element.innerHTML = '';\n",
              "        dataTable['output_type'] = 'display_data';\n",
              "        await google.colab.output.renderOutput(dataTable, element);\n",
              "        const docLink = document.createElement('div');\n",
              "        docLink.innerHTML = docLinkHtml;\n",
              "        element.appendChild(docLink);\n",
              "      }\n",
              "    </script>\n",
              "  </div>\n",
              "\n",
              "\n",
              "    </div>\n",
              "  </div>\n"
            ],
            "application/vnd.google.colaboratory.intrinsic+json": {
              "type": "dataframe",
              "variable_name": "df",
              "summary": "{\n  \"name\": \"df\",\n  \"rows\": 49,\n  \"fields\": [\n    {\n      \"column\": \"T\\u00edtulo\",\n      \"properties\": {\n        \"dtype\": \"string\",\n        \"num_unique_values\": 48,\n        \"samples\": [\n          \"Mini-c\\u00e2mera Para Pc Webcam Com Microfone Filmar Fotos Videos Cor Preto\",\n          \"C\\u00e2mera Web C3tech Wb-70bk Hd 30fps Cor Preto\",\n          \"Webcam Microsoft 5mp Interpolado - Lifecam Cinema H5d-00013 Cor Preto\"\n        ],\n        \"semantic_type\": \"\",\n        \"description\": \"\"\n      }\n    },\n    {\n      \"column\": \"Pre\\u00e7o (R$)\",\n      \"properties\": {\n        \"dtype\": \"number\",\n        \"std\": 430.31652063683674,\n        \"min\": 17.63,\n        \"max\": 2559.0,\n        \"num_unique_values\": 47,\n        \"samples\": [\n          529.0,\n          329.89,\n          30.99\n        ],\n        \"semantic_type\": \"\",\n        \"description\": \"\"\n      }\n    },\n    {\n      \"column\": \"Link\",\n      \"properties\": {\n        \"dtype\": \"string\",\n        \"num_unique_values\": 49,\n        \"samples\": [\n          \"https://www.mercadolivre.com.br/webcam-full-hd-1080p-usb-alta-resoluco-de-computador-cor-preto/p/MLB24837379#wid=MLB5173809422&sid=unknown\",\n          \"https://www.mercadolivre.com.br/cmera-webcam-logitech-c920e-full-hd-30fps-cor-preto/p/MLB18926944#wid=MLB5219227002&sid=unknown\",\n          \"https://www.mercadolivre.com.br/webcam-full-hd-logitech-brio-300-grafite-960-001413-v/p/MLB26033777#wid=MLB3423185445&sid=unknown\"\n        ],\n        \"semantic_type\": \"\",\n        \"description\": \"\"\n      }\n    },\n    {\n      \"column\": \"Condi\\u00e7\\u00e3o\",\n      \"properties\": {\n        \"dtype\": \"category\",\n        \"num_unique_values\": 1,\n        \"samples\": [\n          \"novo\"\n        ],\n        \"semantic_type\": \"\",\n        \"description\": \"\"\n      }\n    },\n    {\n      \"column\": \"Categoria\",\n      \"properties\": {\n        \"dtype\": \"category\",\n        \"num_unique_values\": 1,\n        \"samples\": [\n          \"MLB73364\"\n        ],\n        \"semantic_type\": \"\",\n        \"description\": \"\"\n      }\n    }\n  ]\n}"
            }
          },
          "metadata": {},
          "execution_count": 9
        }
      ]
    },
    {
      "cell_type": "code",
      "source": [
        "df.rename(columns={'titulo': 'produto',\n",
        "                   'Preço (R$)': 'preco',\n",
        "                   'Link': 'link',\n",
        "                   'Condição': 'condicao',\n",
        "                   'Categoria': 'categoria'}, inplace=True)\n",
        "df.head(1)"
      ],
      "metadata": {
        "colab": {
          "base_uri": "https://localhost:8080/",
          "height": 81
        },
        "id": "XN4FNj3yIPow",
        "outputId": "bba48674-0f7d-4d92-abb7-fcf94c3e94ff"
      },
      "execution_count": 16,
      "outputs": [
        {
          "output_type": "execute_result",
          "data": {
            "text/plain": [
              "                                             produto  preco  \\\n",
              "0  Webcam Home Ofice ! Microfone ! Teans, Zoom, M...  54.46   \n",
              "\n",
              "                                                link condicao categoria  \n",
              "0  https://produto.mercadolivre.com.br/MLB-186361...     novo  MLB73364  "
            ],
            "text/html": [
              "\n",
              "  <div id=\"df-a35f8653-487e-4e06-bf6c-0bb7669afed6\" class=\"colab-df-container\">\n",
              "    <div>\n",
              "<style scoped>\n",
              "    .dataframe tbody tr th:only-of-type {\n",
              "        vertical-align: middle;\n",
              "    }\n",
              "\n",
              "    .dataframe tbody tr th {\n",
              "        vertical-align: top;\n",
              "    }\n",
              "\n",
              "    .dataframe thead th {\n",
              "        text-align: right;\n",
              "    }\n",
              "</style>\n",
              "<table border=\"1\" class=\"dataframe\">\n",
              "  <thead>\n",
              "    <tr style=\"text-align: right;\">\n",
              "      <th></th>\n",
              "      <th>produto</th>\n",
              "      <th>preco</th>\n",
              "      <th>link</th>\n",
              "      <th>condicao</th>\n",
              "      <th>categoria</th>\n",
              "    </tr>\n",
              "  </thead>\n",
              "  <tbody>\n",
              "    <tr>\n",
              "      <th>0</th>\n",
              "      <td>Webcam Home Ofice ! Microfone ! Teans, Zoom, M...</td>\n",
              "      <td>54.46</td>\n",
              "      <td>https://produto.mercadolivre.com.br/MLB-186361...</td>\n",
              "      <td>novo</td>\n",
              "      <td>MLB73364</td>\n",
              "    </tr>\n",
              "  </tbody>\n",
              "</table>\n",
              "</div>\n",
              "    <div class=\"colab-df-buttons\">\n",
              "\n",
              "  <div class=\"colab-df-container\">\n",
              "    <button class=\"colab-df-convert\" onclick=\"convertToInteractive('df-a35f8653-487e-4e06-bf6c-0bb7669afed6')\"\n",
              "            title=\"Convert this dataframe to an interactive table.\"\n",
              "            style=\"display:none;\">\n",
              "\n",
              "  <svg xmlns=\"http://www.w3.org/2000/svg\" height=\"24px\" viewBox=\"0 -960 960 960\">\n",
              "    <path d=\"M120-120v-720h720v720H120Zm60-500h600v-160H180v160Zm220 220h160v-160H400v160Zm0 220h160v-160H400v160ZM180-400h160v-160H180v160Zm440 0h160v-160H620v160ZM180-180h160v-160H180v160Zm440 0h160v-160H620v160Z\"/>\n",
              "  </svg>\n",
              "    </button>\n",
              "\n",
              "  <style>\n",
              "    .colab-df-container {\n",
              "      display:flex;\n",
              "      gap: 12px;\n",
              "    }\n",
              "\n",
              "    .colab-df-convert {\n",
              "      background-color: #E8F0FE;\n",
              "      border: none;\n",
              "      border-radius: 50%;\n",
              "      cursor: pointer;\n",
              "      display: none;\n",
              "      fill: #1967D2;\n",
              "      height: 32px;\n",
              "      padding: 0 0 0 0;\n",
              "      width: 32px;\n",
              "    }\n",
              "\n",
              "    .colab-df-convert:hover {\n",
              "      background-color: #E2EBFA;\n",
              "      box-shadow: 0px 1px 2px rgba(60, 64, 67, 0.3), 0px 1px 3px 1px rgba(60, 64, 67, 0.15);\n",
              "      fill: #174EA6;\n",
              "    }\n",
              "\n",
              "    .colab-df-buttons div {\n",
              "      margin-bottom: 4px;\n",
              "    }\n",
              "\n",
              "    [theme=dark] .colab-df-convert {\n",
              "      background-color: #3B4455;\n",
              "      fill: #D2E3FC;\n",
              "    }\n",
              "\n",
              "    [theme=dark] .colab-df-convert:hover {\n",
              "      background-color: #434B5C;\n",
              "      box-shadow: 0px 1px 3px 1px rgba(0, 0, 0, 0.15);\n",
              "      filter: drop-shadow(0px 1px 2px rgba(0, 0, 0, 0.3));\n",
              "      fill: #FFFFFF;\n",
              "    }\n",
              "  </style>\n",
              "\n",
              "    <script>\n",
              "      const buttonEl =\n",
              "        document.querySelector('#df-a35f8653-487e-4e06-bf6c-0bb7669afed6 button.colab-df-convert');\n",
              "      buttonEl.style.display =\n",
              "        google.colab.kernel.accessAllowed ? 'block' : 'none';\n",
              "\n",
              "      async function convertToInteractive(key) {\n",
              "        const element = document.querySelector('#df-a35f8653-487e-4e06-bf6c-0bb7669afed6');\n",
              "        const dataTable =\n",
              "          await google.colab.kernel.invokeFunction('convertToInteractive',\n",
              "                                                    [key], {});\n",
              "        if (!dataTable) return;\n",
              "\n",
              "        const docLinkHtml = 'Like what you see? Visit the ' +\n",
              "          '<a target=\"_blank\" href=https://colab.research.google.com/notebooks/data_table.ipynb>data table notebook</a>'\n",
              "          + ' to learn more about interactive tables.';\n",
              "        element.innerHTML = '';\n",
              "        dataTable['output_type'] = 'display_data';\n",
              "        await google.colab.output.renderOutput(dataTable, element);\n",
              "        const docLink = document.createElement('div');\n",
              "        docLink.innerHTML = docLinkHtml;\n",
              "        element.appendChild(docLink);\n",
              "      }\n",
              "    </script>\n",
              "  </div>\n",
              "\n",
              "\n",
              "    </div>\n",
              "  </div>\n"
            ],
            "application/vnd.google.colaboratory.intrinsic+json": {
              "type": "dataframe",
              "variable_name": "df",
              "summary": "{\n  \"name\": \"df\",\n  \"rows\": 49,\n  \"fields\": [\n    {\n      \"column\": \"produto\",\n      \"properties\": {\n        \"dtype\": \"string\",\n        \"num_unique_values\": 48,\n        \"samples\": [\n          \"Mini-c\\u00e2mera Para Pc Webcam Com Microfone Filmar Fotos Videos Cor Preto\",\n          \"C\\u00e2mera Web C3tech Wb-70bk Hd 30fps Cor Preto\",\n          \"Webcam Microsoft 5mp Interpolado - Lifecam Cinema H5d-00013 Cor Preto\"\n        ],\n        \"semantic_type\": \"\",\n        \"description\": \"\"\n      }\n    },\n    {\n      \"column\": \"preco\",\n      \"properties\": {\n        \"dtype\": \"number\",\n        \"std\": 430.31652063683674,\n        \"min\": 17.63,\n        \"max\": 2559.0,\n        \"num_unique_values\": 47,\n        \"samples\": [\n          529.0,\n          329.89,\n          30.99\n        ],\n        \"semantic_type\": \"\",\n        \"description\": \"\"\n      }\n    },\n    {\n      \"column\": \"link\",\n      \"properties\": {\n        \"dtype\": \"string\",\n        \"num_unique_values\": 49,\n        \"samples\": [\n          \"https://www.mercadolivre.com.br/webcam-full-hd-1080p-usb-alta-resoluco-de-computador-cor-preto/p/MLB24837379#wid=MLB5173809422&sid=unknown\",\n          \"https://www.mercadolivre.com.br/cmera-webcam-logitech-c920e-full-hd-30fps-cor-preto/p/MLB18926944#wid=MLB5219227002&sid=unknown\",\n          \"https://www.mercadolivre.com.br/webcam-full-hd-logitech-brio-300-grafite-960-001413-v/p/MLB26033777#wid=MLB3423185445&sid=unknown\"\n        ],\n        \"semantic_type\": \"\",\n        \"description\": \"\"\n      }\n    },\n    {\n      \"column\": \"condicao\",\n      \"properties\": {\n        \"dtype\": \"category\",\n        \"num_unique_values\": 1,\n        \"samples\": [\n          \"novo\"\n        ],\n        \"semantic_type\": \"\",\n        \"description\": \"\"\n      }\n    },\n    {\n      \"column\": \"categoria\",\n      \"properties\": {\n        \"dtype\": \"category\",\n        \"num_unique_values\": 1,\n        \"samples\": [\n          \"MLB73364\"\n        ],\n        \"semantic_type\": \"\",\n        \"description\": \"\"\n      }\n    }\n  ]\n}"
            }
          },
          "metadata": {},
          "execution_count": 16
        }
      ]
    },
    {
      "cell_type": "markdown",
      "source": [
        "# Conexão com o banco SQL"
      ],
      "metadata": {
        "id": "VTenkVlHKMa6"
      }
    },
    {
      "cell_type": "code",
      "source": [
        "import mysql.connector\n",
        "from mysql.connector import Error"
      ],
      "metadata": {
        "id": "tyJyolLPKsGF"
      },
      "execution_count": 14,
      "outputs": []
    },
    {
      "cell_type": "code",
      "source": [
        "'''\n",
        "7 - Crie um database SQL chamado mercado em sua instância e abasteça esse\n",
        "db com os dados dos arquivo csv.\n",
        "'''"
      ],
      "metadata": {
        "id": "FRCG84uSKc4z"
      },
      "execution_count": null,
      "outputs": []
    },
    {
      "cell_type": "code",
      "source": [
        "# Configuração da conexão com o MySQL\n",
        "config = {\n",
        "    'user': 'root',\n",
        "    'password': '',\n",
        "    'host': '34.57.236.12',\n",
        "    'database': 'mercado'\n",
        "}\n",
        "\n",
        "try:\n",
        "    # Conexão com o banco de dados\n",
        "    conn = mysql.connector.connect(**config)\n",
        "    if conn.is_connected():\n",
        "        print(\"Conexão bem-sucedida ao banco de dados!\")\n",
        "\n",
        "        # Criar um cursor\n",
        "        cursor = conn.cursor()\n",
        "\n",
        "        # Criar a tabela (se necessário)\n",
        "        criar_tabela_query = \"\"\"\n",
        "        CREATE TABLE IF NOT EXISTS webcam (\n",
        "            produto VARCHAR(255),\n",
        "            preco DECIMAL(11,2),\n",
        "            link VARCHAR(255),\n",
        "            condicao VARCHAR(255),\n",
        "            categoria VARCHAR(255)\n",
        "        );\n",
        "        \"\"\"\n",
        "        cursor.execute(criar_tabela_query)\n",
        "\n",
        "        # Inserir os dados do DataFrame no banco de dados\n",
        "        for _, row in df.iterrows():\n",
        "            insert_query = \"\"\"\n",
        "            INSERT INTO webcam (produto, preco, link, condicao, categoria)\n",
        "            VALUES (%s, %s, %s, %s, %s);\n",
        "            \"\"\"\n",
        "            cursor.execute(insert_query, tuple(row))\n",
        "\n",
        "        # Confirmar as mudanças no banco de dados\n",
        "        conn.commit()\n",
        "        print(\"Dados enviados com sucesso!\")\n",
        "\n",
        "except Error as e:\n",
        "    print(\"Erro ao conectar ao banco de dados:\", e)\n",
        "finally:\n",
        "    if conn.is_connected():\n",
        "        cursor.close()\n",
        "        conn.close()\n",
        "        print(\"Conexão encerrada.\")"
      ],
      "metadata": {
        "colab": {
          "base_uri": "https://localhost:8080/"
        },
        "id": "Mz-qPsxSKP-8",
        "outputId": "5b3b6e85-8fdd-42ba-ff99-d4bf98e54f40"
      },
      "execution_count": 17,
      "outputs": [
        {
          "output_type": "stream",
          "name": "stdout",
          "text": [
            "Conexão bem-sucedida ao banco de dados!\n",
            "Dados enviados com sucesso!\n",
            "Conexão encerrada.\n"
          ]
        }
      ]
    }
  ]
}